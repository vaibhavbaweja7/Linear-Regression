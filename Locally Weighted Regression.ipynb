{
 "cells": [
  {
   "cell_type": "code",
   "execution_count": 1,
   "metadata": {},
   "outputs": [],
   "source": [
    "import numpy as np\n",
    "import pandas as pd\n",
    "import matplotlib.pyplot as plt"
   ]
  },
  {
   "cell_type": "code",
   "execution_count": 8,
   "metadata": {},
   "outputs": [],
   "source": [
    "def getdata(m):\n",
    "    X= np.random.rand(m,1)\n",
    "    noise = np.random.randn(m,1)\n",
    "    Y=4*X**7 - X**5 - 12*X**4 +7*X +2+ 0.1*noise\n",
    "    Y=Y.reshape((m,))\n",
    "    return X,Y"
   ]
  },
  {
   "cell_type": "code",
   "execution_count": 9,
   "metadata": {},
   "outputs": [],
   "source": [
    "X,Y =getdata(100)"
   ]
  },
  {
   "cell_type": "code",
   "execution_count": 10,
   "metadata": {},
   "outputs": [
    {
     "name": "stdout",
     "output_type": "stream",
     "text": [
      "(100, 1)\n",
      "(100,)\n"
     ]
    }
   ],
   "source": [
    "print(X.shape)\n",
    "print(Y.shape)"
   ]
  },
  {
   "cell_type": "code",
   "execution_count": 11,
   "metadata": {},
   "outputs": [
    {
     "data": {
      "image/png": "[encoded data removed]",
      "text/plain": [
       "<Figure size 576x396 with 1 Axes>"
      ]
     },
     "metadata": {},
     "output_type": "display_data"
    }
   ],
   "source": [
    "plt.style.use(\"seaborn\")\n",
    "plt.scatter(X,Y)\n",
    "plt.show()"
   ]
  },
  {
   "cell_type": "code",
   "execution_count": 13,
   "metadata": {},
   "outputs": [],
   "source": [
    "def getW(X,q,tau):\n",
    "    m=X.shape[0]\n",
    "    W= np.eye(m)\n",
    "    \n",
    "    for i in range(m):\n",
    "        W[i,i] = np.exp(-np.dot((X[i]-q),(X[i]-q).T)/(2*tau*tau))\n",
    "    return W\n",
    "\n",
    "def getTheta(X,Y,q,tau):\n",
    "    m=X.shape[0]\n",
    "    ones= np.ones((m,1))\n",
    "    X= np.hstack((ones,X))\n",
    "    W=getW(X,q,tau)\n",
    "    Y= Y.reshape((-1,1))\n",
    "    q=np.array([1,q])\n",
    "    \n",
    "    theta = np.dot(np.linalg.pinv(np.dot(np.dot(X.T,W),X)),np.dot(np.dot(X.T,W),Y))\n",
    "    return theta,W"
   ]
  },
  {
   "cell_type": "code",
   "execution_count": 14,
   "metadata": {},
   "outputs": [],
   "source": [
    "theta,W = getTheta(X,Y,0.6,1)\n"
   ]
  },
  {
   "cell_type": "code",
   "execution_count": 15,
   "metadata": {},
   "outputs": [
    {
     "name": "stdout",
     "output_type": "stream",
     "text": [
      "(2, 1)\n",
      "[[0.91853686 0.         0.         ... 0.         0.         0.        ]\n",
      " [0.         0.7745834  0.         ... 0.         0.         0.        ]\n",
      " [0.         0.         0.80436242 ... 0.         0.         0.        ]\n",
      " ...\n",
      " [0.         0.         0.         ... 0.79244218 0.         0.        ]\n",
      " [0.         0.         0.         ... 0.         0.7982516  0.        ]\n",
      " [0.         0.         0.         ... 0.         0.         0.85806047]]\n"
     ]
    }
   ],
   "source": [
    "print(theta.shape)\n",
    "print(W)"
   ]
  },
  {
   "cell_type": "code",
   "execution_count": 17,
   "metadata": {},
   "outputs": [
    {
     "name": "stdout",
     "output_type": "stream",
     "text": [
      "[0.         0.11111111 0.22222222 0.33333333 0.44444444 0.55555556\n",
      " 0.66666667 0.77777778 0.88888889 1.        ]\n",
      "(10,)\n",
      "[2.07168189 2.77783642 3.46210882 4.06171815 4.45082141 4.52309721\n",
      " 4.14066859 3.23836947 1.77054462 0.03836114]\n"
     ]
    }
   ],
   "source": [
    "X_test =np.linspace(0,1,10)\n",
    "print(X_test)\n",
    "Y_Test = []\n",
    "\n",
    "for xt in X_test:\n",
    "    theta,W = getTheta(X,Y,xt,0.1)\n",
    "    pred = theta[0][0] + theta[1][0]*xt\n",
    "    Y_Test.append(pred)\n",
    "    \n",
    "Y_Test = np.array(Y_Test)\n",
    "print(Y_Test.shape)\n",
    "print(Y_Test)"
   ]
  },
  {
   "cell_type": "code",
   "execution_count": 19,
   "metadata": {},
   "outputs": [
    {
     "data": {
      "image/png": "[encoded data removed]",
      "text/plain": [
       "<Figure size 576x396 with 1 Axes>"
      ]
     },
     "metadata": {},
     "output_type": "display_data"
    }
   ],
   "source": [
    "plt.scatter(X,Y)\n",
    "plt.scatter(X_test,Y_Test,c='orange')\n",
    "plt.show()"
   ]
  },
  {
   "cell_type": "code",
   "execution_count": null,
   "metadata": {},
   "outputs": [],
   "source": []
  }
 ],
 "metadata": {
  "kernelspec": {
   "display_name": "Python 3",
   "language": "python",
   "name": "python3"
  },
  "language_info": {
   "codemirror_mode": {
    "name": "ipython",
    "version": 3
   },
   "file_extension": ".py",
   "mimetype": "text/x-python",
   "name": "python",
   "nbconvert_exporter": "python",
   "pygments_lexer": "ipython3",
   "version": "3.7.0"
  }
 },
 "nbformat": 4,
 "nbformat_minor": 2
}
